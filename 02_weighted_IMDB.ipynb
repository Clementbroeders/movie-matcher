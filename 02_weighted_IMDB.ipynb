{
 "cells": [
  {
   "cell_type": "markdown",
   "metadata": {},
   "source": [
    "## Packages"
   ]
  },
  {
   "cell_type": "code",
   "execution_count": 1,
   "metadata": {},
   "outputs": [],
   "source": [
    "import pandas as pd\n",
    "import os\n",
    "import warnings\n",
    "warnings.filterwarnings(\"ignore\")"
   ]
  },
  {
   "cell_type": "markdown",
   "metadata": {},
   "source": [
    "## Weighted rating IMDB"
   ]
  },
  {
   "cell_type": "code",
   "execution_count": 51,
   "metadata": {},
   "outputs": [
    {
     "name": "stdout",
     "output_type": "stream",
     "text": [
      "Vote average : 5.85192403798101\n",
      "Nombre de votes minimum : 994.0\n",
      "Nombre de films choisis : 3000\n",
      "Nombre de films initialement prévues : 4003\n"
     ]
    }
   ],
   "source": [
    "# Import des fichiers CSV movielens_links et TMDB_movie_vote\n",
    "links = pd.read_csv('src/Movielens_links.csv')\n",
    "movie = pd.read_csv('src/TMDB_movie_vote.csv')\n",
    "\n",
    "# Merge en un seul dataframe movie\n",
    "movie = pd.merge(movie, links, left_on='tmdb_id', right_on='tmdbId', how='left')\n",
    "movie = movie.loc[:,['tmdb_id', 'movieId', 'vote_count', 'vote_average']]\n",
    "movie.rename(columns={'tmdb_id':'tmdb_id', 'movieId' : 'movielens_id'}, inplace=True)\n",
    "\n",
    "# Application du weighted rating IMDB\n",
    "vote_counts = movie[movie['vote_count'].notnull()]['vote_count'].astype('int')\n",
    "vote_averages = movie[movie['vote_average'].notnull()]['vote_average'].astype('int')\n",
    "C = vote_averages.mean()\n",
    "m = vote_counts.quantile(0.8)\n",
    "qualified = movie[(movie['vote_count'] >= m) & (movie['vote_count'].notnull()) & (movie['vote_average'].notnull())]\n",
    "qualified['vote_count'] = qualified['vote_count'].astype('int')\n",
    "qualified['vote_average'] = qualified['vote_average'].astype('int')\n",
    "\n",
    "def weighted_rating(x):\n",
    "    v = x['vote_count']\n",
    "    R = x['vote_average']\n",
    "    return (v/(v+m) * R) + (m/(m+v) * C)\n",
    "\n",
    "nombre_films_choisi = 3000\n",
    "qualified['score_imdb'] = qualified.apply(weighted_rating, axis=1)\n",
    "nombre_films_filtre = qualified.shape[0]\n",
    "qualified = qualified.sort_values('score_imdb', ascending=False).head(nombre_films)\n",
    "\n",
    "print(f'Vote average : {C}')\n",
    "print(f'Nombre de votes minimum : {m}')\n",
    "print(f'Nombre de films choisis : {nombre_films}')\n",
    "print(f'Nombre de films initialement prévues : {nombre_films_filtre}')"
   ]
  },
  {
   "cell_type": "markdown",
   "metadata": {},
   "source": [
    "## Create TMDB weighted Movie CSV with IMDB weighted CSV"
   ]
  },
  {
   "cell_type": "code",
   "execution_count": 52,
   "metadata": {},
   "outputs": [],
   "source": [
    "# Filtre des colonnes\n",
    "weighted_movies = qualified.loc[:,['tmdb_id', 'score_imdb']]\n",
    "\n",
    "# Export du fichier TMDB_weighted_movies.csv\n",
    "weighted_movies.to_csv('src/TMDB_weighted_movies.csv', index=False)"
   ]
  },
  {
   "cell_type": "markdown",
   "metadata": {},
   "source": [
    "## Update Movielens ratings CSV"
   ]
  },
  {
   "cell_type": "code",
   "execution_count": 54,
   "metadata": {},
   "outputs": [
    {
     "name": "stdout",
     "output_type": "stream",
     "text": [
      "Le fichier src/Movielens_ratings_updated.csv a été créé avec succès.\n",
      "Le fichier src\\Movielens_ratings.csv a été supprimé avec succès.\n"
     ]
    }
   ],
   "source": [
    "# Importation du fichier Movielens_ratings.csv\n",
    "ratings = pd.read_csv('src/Movielens_ratings.csv')\n",
    "ratings = pd.merge(qualified, ratings, left_on='movielens_id', right_on='movieId', how='left')\n",
    "ratings = ratings.loc[:, ['tmdb_id', 'userId', 'rating']]\n",
    "ratings = ratings[ratings['userId'].notnull()]\n",
    "\n",
    "# Obtenir le compte des votes par utilisateur\n",
    "user_counts = ratings['userId'].value_counts()\n",
    "\n",
    "# Filtrer les utilisateurs ayant au moins 20 votes en supprimant les outliers\n",
    "borne_inf = 20 # Arbitraire, selon les infos de Movielens\n",
    "borne_sup = user_counts[user_counts >= borne_inf].quantile(0.8)\n",
    "\n",
    "filtered_users = user_counts[(user_counts >= borne_inf) & (user_counts < borne_sup)].index\n",
    "\n",
    "# Appliquer le filtrage sur le DataFrame original\n",
    "filter_df = ratings[ratings['userId'].isin(filtered_users)]\n",
    "\n",
    "# Sample d'utilisateurs en fonction du nombre lignes souhaitées\n",
    "mediane = filter_df['userId'].value_counts().quantile(0.5)\n",
    "nombre_lignes = 250000\n",
    "nombre_users = int(nombre_lignes/mediane)\n",
    "users_keep = filter_df['userId'].value_counts().sample(nombre_users, random_state = 0).index\n",
    "filter_df = filter_df[filter_df['userId'].isin(users_keep)]\n",
    "\n",
    "# Create a mapping dictionary\n",
    "user_mapping = {old_id: new_id for new_id, old_id in enumerate(filter_df['userId'].unique(), start=1)}\n",
    "\n",
    "# Update the userId column using the mapping\n",
    "filter_df['userId'] = filter_df['userId'].map(user_mapping)\n",
    "\n",
    "# Export Movielens_ratings_updated.csv\n",
    "filter_df.to_csv('src/Movielens_ratings_updated.csv', index=False)\n",
    "print('Le fichier src\\\\Movielens_ratings_updated.csv a été créé avec succès.')\n",
    "\n",
    "# Suppression du fichier Movielens_ratings.csv\n",
    "current_directory = os.getcwd()\n",
    "relative_path = 'src\\\\Movielens_ratings.csv'\n",
    "full_path = os.path.join(current_directory, relative_path)\n",
    "\n",
    "# Vérifier si le fichier existe avant de le supprimer\n",
    "if os.path.exists(full_path):\n",
    "    os.remove(full_path)\n",
    "    print(f\"Le fichier {relative_path} a été supprimé avec succès.\")\n",
    "else:\n",
    "    print(f\"Le fichier {relative_path} n'existe pas dans le dossier spécifié.\")"
   ]
  }
 ],
 "metadata": {
  "kernelspec": {
   "display_name": "base",
   "language": "python",
   "name": "python3"
  },
  "language_info": {
   "codemirror_mode": {
    "name": "ipython",
    "version": 3
   },
   "file_extension": ".py",
   "mimetype": "text/x-python",
   "name": "python",
   "nbconvert_exporter": "python",
   "pygments_lexer": "ipython3",
   "version": "3.12.1"
  }
 },
 "nbformat": 4,
 "nbformat_minor": 2
}
