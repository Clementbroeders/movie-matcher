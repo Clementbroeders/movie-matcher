{
 "cells": [
  {
   "cell_type": "markdown",
   "metadata": {},
   "source": [
    "## IMPORT LIBRAIRIES"
   ]
  },
  {
   "cell_type": "code",
   "execution_count": 1,
   "metadata": {},
   "outputs": [],
   "source": [
    "import pandas as pd"
   ]
  },
  {
   "cell_type": "markdown",
   "metadata": {},
   "source": [
    "## READ CSV"
   ]
  },
  {
   "cell_type": "code",
   "execution_count": 2,
   "metadata": {},
   "outputs": [],
   "source": [
    "links = pd.read_csv('./src/links.csv')\n",
    "movies = pd.read_csv('./src/movies.csv')\n",
    "movies_title = pd.merge(movies, links, how='left')\n",
    "content = pd.read_csv('./src/TMDB_content.csv')\n",
    "content = content.drop(['poster_path', 'year'], axis=1)"
   ]
  },
  {
   "cell_type": "code",
   "execution_count": 3,
   "metadata": {},
   "outputs": [
    {
     "data": {
      "text/html": [
       "<div>\n",
       "<style scoped>\n",
       "    .dataframe tbody tr th:only-of-type {\n",
       "        vertical-align: middle;\n",
       "    }\n",
       "\n",
       "    .dataframe tbody tr th {\n",
       "        vertical-align: top;\n",
       "    }\n",
       "\n",
       "    .dataframe thead th {\n",
       "        text-align: right;\n",
       "    }\n",
       "</style>\n",
       "<table border=\"1\" class=\"dataframe\">\n",
       "  <thead>\n",
       "    <tr style=\"text-align: right;\">\n",
       "      <th></th>\n",
       "      <th>tmdb_id</th>\n",
       "      <th>title</th>\n",
       "      <th>genres</th>\n",
       "      <th>keywords</th>\n",
       "      <th>cast</th>\n",
       "      <th>director</th>\n",
       "      <th>watch_providers</th>\n",
       "    </tr>\n",
       "  </thead>\n",
       "  <tbody>\n",
       "    <tr>\n",
       "      <th>0</th>\n",
       "      <td>614696</td>\n",
       "      <td>#Alive</td>\n",
       "      <td>Horror, Action, Adventure, Thriller</td>\n",
       "      <td>escape, alone, survival, drone, zombie, apartm...</td>\n",
       "      <td>Yoo Ah-in, Park Shin-hye, Lee Hyun-wook, Jin S...</td>\n",
       "      <td>Cho Il</td>\n",
       "      <td>8, 1796</td>\n",
       "    </tr>\n",
       "    <tr>\n",
       "      <th>1</th>\n",
       "      <td>19913</td>\n",
       "      <td>(500) Days of Summer</td>\n",
       "      <td>Comedy, Drama, Romance</td>\n",
       "      <td>jealousy, gallery, fight, date, architect, int...</td>\n",
       "      <td>Joseph Gordon-Levitt, Zooey Deschanel, Geoffre...</td>\n",
       "      <td>Marc Webb</td>\n",
       "      <td>337</td>\n",
       "    </tr>\n",
       "    <tr>\n",
       "      <th>2</th>\n",
       "      <td>333371</td>\n",
       "      <td>10 Cloverfield Lane</td>\n",
       "      <td>Thriller, Science Fiction, Drama, Horror</td>\n",
       "      <td>kidnapping, paranoia, bunker, basement, surviv...</td>\n",
       "      <td>Mary Elizabeth Winstead, John Goodman, John Ga...</td>\n",
       "      <td>Dan Trachtenberg</td>\n",
       "      <td>381, 531, 582, 1853</td>\n",
       "    </tr>\n",
       "    <tr>\n",
       "      <th>3</th>\n",
       "      <td>4951</td>\n",
       "      <td>10 Things I Hate About You</td>\n",
       "      <td>Comedy, Romance, Drama</td>\n",
       "      <td>high school, deception, based on play or music...</td>\n",
       "      <td>Heath Ledger, Julia Stiles, Joseph Gordon-Levi...</td>\n",
       "      <td>Gil Junger</td>\n",
       "      <td>337</td>\n",
       "    </tr>\n",
       "    <tr>\n",
       "      <th>4</th>\n",
       "      <td>389</td>\n",
       "      <td>12 Angry Men</td>\n",
       "      <td>Drama</td>\n",
       "      <td>death penalty, anonymity, court case, court, j...</td>\n",
       "      <td>Martin Balsam, John Fiedler, Lee J. Cobb, E.G....</td>\n",
       "      <td>Sidney Lumet</td>\n",
       "      <td>588</td>\n",
       "    </tr>\n",
       "    <tr>\n",
       "      <th>...</th>\n",
       "      <td>...</td>\n",
       "      <td>...</td>\n",
       "      <td>...</td>\n",
       "      <td>...</td>\n",
       "      <td>...</td>\n",
       "      <td>...</td>\n",
       "      <td>...</td>\n",
       "    </tr>\n",
       "    <tr>\n",
       "      <th>2995</th>\n",
       "      <td>1946</td>\n",
       "      <td>eXistenZ</td>\n",
       "      <td>Action, Thriller, Science Fiction</td>\n",
       "      <td>hacker, video game, virtual reality, pop star,...</td>\n",
       "      <td>Jennifer Jason Leigh, Jude Law, Ian Holm, Will...</td>\n",
       "      <td>David Cronenberg</td>\n",
       "      <td>381</td>\n",
       "    </tr>\n",
       "    <tr>\n",
       "      <th>2996</th>\n",
       "      <td>437586</td>\n",
       "      <td>mid90s</td>\n",
       "      <td>Drama, Comedy</td>\n",
       "      <td>california, skateboarding, dysfunctional famil...</td>\n",
       "      <td>Sunny Suljic, Katherine Waterston, Lucas Hedge...</td>\n",
       "      <td>Jonah Hill</td>\n",
       "      <td>NaN</td>\n",
       "    </tr>\n",
       "    <tr>\n",
       "      <th>2997</th>\n",
       "      <td>381283</td>\n",
       "      <td>mother!</td>\n",
       "      <td>Drama, Thriller, Horror</td>\n",
       "      <td>husband wife relationship, nightmare, nihilism...</td>\n",
       "      <td>Jennifer Lawrence, Javier Bardem, Ed Harris, M...</td>\n",
       "      <td>Darren Aronofsky</td>\n",
       "      <td>381, 531, 582, 1853</td>\n",
       "    </tr>\n",
       "    <tr>\n",
       "      <th>2998</th>\n",
       "      <td>537116</td>\n",
       "      <td>tick, tick... BOOM!</td>\n",
       "      <td>Drama, Music</td>\n",
       "      <td>new york city, composer, artist, musical, base...</td>\n",
       "      <td>Andrew Garfield, Alexandra Shipp, Robin de Jes...</td>\n",
       "      <td>Lin-Manuel Miranda</td>\n",
       "      <td>8, 1796</td>\n",
       "    </tr>\n",
       "    <tr>\n",
       "      <th>2999</th>\n",
       "      <td>47971</td>\n",
       "      <td>xXx: Return of Xander Cage</td>\n",
       "      <td>Action, Adventure, Crime</td>\n",
       "      <td>airplane, tattoo, spy, extreme sports, parachu...</td>\n",
       "      <td>Vin Diesel, Donnie Yen, Ruby Rose, Toni Collet...</td>\n",
       "      <td>D. J. Caruso</td>\n",
       "      <td>8, 119, 381, 1796, 531, 582, 1853, 1967</td>\n",
       "    </tr>\n",
       "  </tbody>\n",
       "</table>\n",
       "<p>3000 rows × 7 columns</p>\n",
       "</div>"
      ],
      "text/plain": [
       "      tmdb_id                       title  \\\n",
       "0      614696                      #Alive   \n",
       "1       19913        (500) Days of Summer   \n",
       "2      333371         10 Cloverfield Lane   \n",
       "3        4951  10 Things I Hate About You   \n",
       "4         389                12 Angry Men   \n",
       "...       ...                         ...   \n",
       "2995     1946                    eXistenZ   \n",
       "2996   437586                      mid90s   \n",
       "2997   381283                     mother!   \n",
       "2998   537116         tick, tick... BOOM!   \n",
       "2999    47971  xXx: Return of Xander Cage   \n",
       "\n",
       "                                        genres  \\\n",
       "0          Horror, Action, Adventure, Thriller   \n",
       "1                       Comedy, Drama, Romance   \n",
       "2     Thriller, Science Fiction, Drama, Horror   \n",
       "3                       Comedy, Romance, Drama   \n",
       "4                                        Drama   \n",
       "...                                        ...   \n",
       "2995         Action, Thriller, Science Fiction   \n",
       "2996                             Drama, Comedy   \n",
       "2997                   Drama, Thriller, Horror   \n",
       "2998                              Drama, Music   \n",
       "2999                  Action, Adventure, Crime   \n",
       "\n",
       "                                               keywords  \\\n",
       "0     escape, alone, survival, drone, zombie, apartm...   \n",
       "1     jealousy, gallery, fight, date, architect, int...   \n",
       "2     kidnapping, paranoia, bunker, basement, surviv...   \n",
       "3     high school, deception, based on play or music...   \n",
       "4     death penalty, anonymity, court case, court, j...   \n",
       "...                                                 ...   \n",
       "2995  hacker, video game, virtual reality, pop star,...   \n",
       "2996  california, skateboarding, dysfunctional famil...   \n",
       "2997  husband wife relationship, nightmare, nihilism...   \n",
       "2998  new york city, composer, artist, musical, base...   \n",
       "2999  airplane, tattoo, spy, extreme sports, parachu...   \n",
       "\n",
       "                                                   cast            director  \\\n",
       "0     Yoo Ah-in, Park Shin-hye, Lee Hyun-wook, Jin S...              Cho Il   \n",
       "1     Joseph Gordon-Levitt, Zooey Deschanel, Geoffre...           Marc Webb   \n",
       "2     Mary Elizabeth Winstead, John Goodman, John Ga...    Dan Trachtenberg   \n",
       "3     Heath Ledger, Julia Stiles, Joseph Gordon-Levi...          Gil Junger   \n",
       "4     Martin Balsam, John Fiedler, Lee J. Cobb, E.G....        Sidney Lumet   \n",
       "...                                                 ...                 ...   \n",
       "2995  Jennifer Jason Leigh, Jude Law, Ian Holm, Will...    David Cronenberg   \n",
       "2996  Sunny Suljic, Katherine Waterston, Lucas Hedge...          Jonah Hill   \n",
       "2997  Jennifer Lawrence, Javier Bardem, Ed Harris, M...    Darren Aronofsky   \n",
       "2998  Andrew Garfield, Alexandra Shipp, Robin de Jes...  Lin-Manuel Miranda   \n",
       "2999  Vin Diesel, Donnie Yen, Ruby Rose, Toni Collet...        D. J. Caruso   \n",
       "\n",
       "                              watch_providers  \n",
       "0                                     8, 1796  \n",
       "1                                         337  \n",
       "2                         381, 531, 582, 1853  \n",
       "3                                         337  \n",
       "4                                         588  \n",
       "...                                       ...  \n",
       "2995                                      381  \n",
       "2996                                      NaN  \n",
       "2997                      381, 531, 582, 1853  \n",
       "2998                                  8, 1796  \n",
       "2999  8, 119, 381, 1796, 531, 582, 1853, 1967  \n",
       "\n",
       "[3000 rows x 7 columns]"
      ]
     },
     "execution_count": 3,
     "metadata": {},
     "output_type": "execute_result"
    }
   ],
   "source": [
    "content"
   ]
  },
  {
   "cell_type": "markdown",
   "metadata": {},
   "source": [
    "## CONTENT-BASED FILTERING RECOMMENDER"
   ]
  },
  {
   "cell_type": "markdown",
   "metadata": {},
   "source": [
    "### PREPROCESSING KEYWORDS\n",
    "1. Remove occurence < 1\n",
    "\n",
    "2. Transform keyword to its lemma form\n",
    "\n",
    "3. Lowercase and remove spaces"
   ]
  },
  {
   "cell_type": "code",
   "execution_count": 4,
   "metadata": {},
   "outputs": [],
   "source": [
    "df = content.copy()\n",
    "df['keywords'] = df['keywords'].str.split(',')\n",
    "df = df.explode('keywords')"
   ]
  },
  {
   "cell_type": "code",
   "execution_count": 5,
   "metadata": {},
   "outputs": [
    {
     "data": {
      "text/plain": [
       "keywords\n",
       " based on novel or book    332\n",
       " duringcreditsstinger      240\n",
       " murder                    202\n",
       " sequel                    196\n",
       " california                171\n",
       "                          ... \n",
       " minefield                   1\n",
       " corsican                    1\n",
       " twilight                    1\n",
       " streetwise                  1\n",
       " free fall                   1\n",
       "Name: count, Length: 10589, dtype: int64"
      ]
     },
     "execution_count": 5,
     "metadata": {},
     "output_type": "execute_result"
    }
   ],
   "source": [
    "k = df['keywords'].value_counts()\n",
    "k"
   ]
  },
  {
   "cell_type": "code",
   "execution_count": 6,
   "metadata": {},
   "outputs": [
    {
     "data": {
      "text/plain": [
       "keywords\n",
       " based on novel or book    332\n",
       " duringcreditsstinger      240\n",
       " murder                    202\n",
       " sequel                    196\n",
       " california                171\n",
       "                          ... \n",
       " around the world            2\n",
       " canoe                       2\n",
       " candle                      2\n",
       "secret identity              2\n",
       " covid-19                    2\n",
       "Name: count, Length: 4995, dtype: int64"
      ]
     },
     "execution_count": 6,
     "metadata": {},
     "output_type": "execute_result"
    }
   ],
   "source": [
    "k = k[k>1]\n",
    "k"
   ]
  },
  {
   "cell_type": "code",
   "execution_count": 7,
   "metadata": {},
   "outputs": [],
   "source": [
    "def filter_keywords(x):\n",
    "    ''' Remove keywords that appear only one time '''\n",
    "    words = []\n",
    "    for i in x:\n",
    "        if i in k:\n",
    "            words.append(i)\n",
    "    return words"
   ]
  },
  {
   "cell_type": "code",
   "execution_count": 8,
   "metadata": {},
   "outputs": [],
   "source": [
    "import spacy\n",
    "nlp = spacy.load('en_core_web_sm')\n",
    "\n",
    "def to_lemma(text):\n",
    "    ''' Transform keyword into its lemma form '''\n",
    "    doc = nlp(text)\n",
    "    lemmatized_tokens = [token.lemma_ for token in doc]\n",
    "    lemmatized_text = ' '.join(lemmatized_tokens)\n",
    "    return lemmatized_text"
   ]
  },
  {
   "cell_type": "code",
   "execution_count": 9,
   "metadata": {},
   "outputs": [],
   "source": [
    "content['keywords'] = content['keywords'].apply(lambda x: str(x).split(','))\n",
    "content['keywords'] = content['keywords'].apply(filter_keywords)\n",
    "content['keywords'] = content['keywords'].apply(lambda x: [to_lemma(i) for i in x])\n",
    "content['keywords'] = content['keywords'].apply(lambda x: [str.lower(i.replace(' ','')) for i in x])"
   ]
  },
  {
   "cell_type": "code",
   "execution_count": 10,
   "metadata": {},
   "outputs": [
    {
     "data": {
      "text/plain": [
       "keyword\n",
       "baseonnovelorbook       496\n",
       "duringcreditsstinger    244\n",
       "sequel                  209\n",
       "murder                  202\n",
       "newyorkcity             201\n",
       "                       ... \n",
       "universe                  2\n",
       "earth                     2\n",
       "warstrategy               2\n",
       "slowmotion                2\n",
       "platoniclove              2\n",
       "Name: count, Length: 4649, dtype: int64"
      ]
     },
     "execution_count": 10,
     "metadata": {},
     "output_type": "execute_result"
    }
   ],
   "source": [
    "k_clean = content.apply(lambda x: pd.Series(x['keywords']),axis=1).stack().reset_index(level=1, drop=True)\n",
    "k_clean.name = 'keyword'\n",
    "k_clean.value_counts()"
   ]
  },
  {
   "cell_type": "markdown",
   "metadata": {},
   "source": [
    "Résultats : \n",
    "1. les mots-clés ont été remplacés par leur racine lemma (ex. 'base' VS 'based on novel')\n",
    "\n",
    "2. les mots-clés n'apparaissant qu'une seule fois ont été supprimés"
   ]
  },
  {
   "cell_type": "markdown",
   "metadata": {},
   "source": [
    "### PREPROCESSING GENRES AND CAST"
   ]
  },
  {
   "cell_type": "code",
   "execution_count": 11,
   "metadata": {},
   "outputs": [],
   "source": [
    "content['genres'] = content['genres'].apply(lambda x: str(x).split(','))\n",
    "content['genres'] = content['genres'].apply(lambda x: [str.lower(i.replace(' ','')) for i in x])\n",
    "\n",
    "content['cast'] = content['cast'].apply(lambda x: str(x).split(','))\n",
    "content['cast'] = content['cast'].apply(lambda x: [str.lower(i.replace(' ','')) for i in x])"
   ]
  },
  {
   "cell_type": "code",
   "execution_count": 12,
   "metadata": {},
   "outputs": [],
   "source": [
    "# We keep 3 actors as the main cast:\n",
    "if len(content['cast']) > 3:\n",
    "    content['main_cast'] = content['cast'].apply(lambda x: x[0:3])\n",
    "else:\n",
    "    content['main_cast'] = content['cast']"
   ]
  },
  {
   "cell_type": "markdown",
   "metadata": {},
   "source": [
    "### GROUP ALL CONTENT DATA"
   ]
  },
  {
   "cell_type": "code",
   "execution_count": 13,
   "metadata": {},
   "outputs": [],
   "source": [
    "content['soup'] = content['genres'] + content['keywords'] + content['main_cast']\n",
    "content['soup'] = content['soup'].apply(lambda x: ' '.join(x))"
   ]
  },
  {
   "cell_type": "markdown",
   "metadata": {},
   "source": [
    "## TF-IDF VECTORIZER"
   ]
  },
  {
   "cell_type": "code",
   "execution_count": 15,
   "metadata": {},
   "outputs": [],
   "source": [
    "from sklearn.feature_extraction.text import CountVectorizer\n",
    "\n",
    "# Transform each text into its vectorial form and compute the frequency of each word:\n",
    "count = CountVectorizer(stop_words='english')\n",
    "count_matrix = count.fit_transform(content['soup'])"
   ]
  },
  {
   "cell_type": "code",
   "execution_count": 16,
   "metadata": {},
   "outputs": [
    {
     "data": {
      "text/plain": [
       "(3000, 3000)"
      ]
     },
     "execution_count": 16,
     "metadata": {},
     "output_type": "execute_result"
    }
   ],
   "source": [
    "from sklearn.metrics.pairwise import cosine_similarity\n",
    "\n",
    "# Compute cosine similarity scores:\n",
    "cosine_sim = cosine_similarity(count_matrix, count_matrix)\n",
    "cosine_sim.shape"
   ]
  },
  {
   "cell_type": "code",
   "execution_count": 17,
   "metadata": {},
   "outputs": [
    {
     "data": {
      "text/plain": [
       "array([[1.        , 0.        , 0.11846978, ..., 0.10012523, 0.        ,\n",
       "        0.11470787],\n",
       "       [0.        , 1.        , 0.05773503, ..., 0.048795  , 0.0559017 ,\n",
       "        0.        ],\n",
       "       [0.11846978, 0.05773503, 1.        , ..., 0.16903085, 0.06454972,\n",
       "        0.        ],\n",
       "       ...,\n",
       "       [0.10012523, 0.048795  , 0.16903085, ..., 1.        , 0.05455447,\n",
       "        0.        ],\n",
       "       [0.        , 0.0559017 , 0.06454972, ..., 0.05455447, 1.        ,\n",
       "        0.        ],\n",
       "       [0.11470787, 0.        , 0.        , ..., 0.        , 0.        ,\n",
       "        1.        ]])"
      ]
     },
     "execution_count": 17,
     "metadata": {},
     "output_type": "execute_result"
    }
   ],
   "source": [
    "cosine_sim"
   ]
  },
  {
   "cell_type": "markdown",
   "metadata": {},
   "source": [
    "## GET RECOMMENDATIONS"
   ]
  },
  {
   "cell_type": "code",
   "execution_count": 80,
   "metadata": {},
   "outputs": [],
   "source": [
    "movie_ids = pd.Series(content.index, index=content['tmdb_id']).drop_duplicates()\n",
    "\n",
    "def get_recommendations(movie_id, cosine_sim=cosine_sim):\n",
    "    ''' Function that takes in movie ID as input and outputs most similar movies '''\n",
    "    \n",
    "    # Get the index of the movie that matches the ID\n",
    "    idx = movie_ids[movie_id]\n",
    "\n",
    "    # Get the pairwise similarity scores of all movies with that movie\n",
    "    similarity_scores = list(enumerate(cosine_sim[idx]))\n",
    "\n",
    "    # Sort the movies based on the similarity scores\n",
    "    similarity_scores = sorted(similarity_scores, key=lambda x: x[1], reverse=True)\n",
    "\n",
    "    # Get the scores of the 30 most similar movies\n",
    "    similarity_scores = similarity_scores[1:31]\n",
    "\n",
    "    # Get the movie indices, scores and tmdb_id\n",
    "    movie_indices = [i[0] for i in similarity_scores]\n",
    "    movie_scores = [i[1] for i in similarity_scores]\n",
    "    movie_tmdb_id = content['tmdb_id'].iloc[movie_indices]\n",
    "\n",
    "    # Put results into dataframe\n",
    "    df = pd.DataFrame(data = {'tmdb_id': movie_tmdb_id,\n",
    "                              'score': movie_scores\n",
    "                            })\n",
    "    df = df.reset_index(drop=True)\n",
    "\n",
    "    # Return the top 30 most similar movies\n",
    "    return df"
   ]
  },
  {
   "cell_type": "markdown",
   "metadata": {},
   "source": [
    "### (TEST)"
   ]
  },
  {
   "cell_type": "code",
   "execution_count": 133,
   "metadata": {},
   "outputs": [
    {
     "data": {
      "text/html": [
       "<div>\n",
       "<style scoped>\n",
       "    .dataframe tbody tr th:only-of-type {\n",
       "        vertical-align: middle;\n",
       "    }\n",
       "\n",
       "    .dataframe tbody tr th {\n",
       "        vertical-align: top;\n",
       "    }\n",
       "\n",
       "    .dataframe thead th {\n",
       "        text-align: right;\n",
       "    }\n",
       "</style>\n",
       "<table border=\"1\" class=\"dataframe\">\n",
       "  <thead>\n",
       "    <tr style=\"text-align: right;\">\n",
       "      <th></th>\n",
       "      <th>tmdb_id</th>\n",
       "      <th>score</th>\n",
       "    </tr>\n",
       "  </thead>\n",
       "  <tbody>\n",
       "    <tr>\n",
       "      <th>0</th>\n",
       "      <td>109451</td>\n",
       "      <td>0.762770</td>\n",
       "    </tr>\n",
       "    <tr>\n",
       "      <th>1</th>\n",
       "      <td>360920</td>\n",
       "      <td>0.418121</td>\n",
       "    </tr>\n",
       "    <tr>\n",
       "      <th>2</th>\n",
       "      <td>13930</td>\n",
       "      <td>0.404520</td>\n",
       "    </tr>\n",
       "    <tr>\n",
       "      <th>3</th>\n",
       "      <td>116149</td>\n",
       "      <td>0.369274</td>\n",
       "    </tr>\n",
       "    <tr>\n",
       "      <th>4</th>\n",
       "      <td>381719</td>\n",
       "      <td>0.363636</td>\n",
       "    </tr>\n",
       "    <tr>\n",
       "      <th>5</th>\n",
       "      <td>9928</td>\n",
       "      <td>0.363636</td>\n",
       "    </tr>\n",
       "    <tr>\n",
       "      <th>6</th>\n",
       "      <td>431693</td>\n",
       "      <td>0.348155</td>\n",
       "    </tr>\n",
       "    <tr>\n",
       "      <th>7</th>\n",
       "      <td>481084</td>\n",
       "      <td>0.348155</td>\n",
       "    </tr>\n",
       "    <tr>\n",
       "      <th>8</th>\n",
       "      <td>364689</td>\n",
       "      <td>0.345857</td>\n",
       "    </tr>\n",
       "    <tr>\n",
       "      <th>9</th>\n",
       "      <td>482321</td>\n",
       "      <td>0.341882</td>\n",
       "    </tr>\n",
       "    <tr>\n",
       "      <th>10</th>\n",
       "      <td>587807</td>\n",
       "      <td>0.341882</td>\n",
       "    </tr>\n",
       "    <tr>\n",
       "      <th>11</th>\n",
       "      <td>227973</td>\n",
       "      <td>0.334497</td>\n",
       "    </tr>\n",
       "    <tr>\n",
       "      <th>12</th>\n",
       "      <td>33217</td>\n",
       "      <td>0.322329</td>\n",
       "    </tr>\n",
       "    <tr>\n",
       "      <th>13</th>\n",
       "      <td>454640</td>\n",
       "      <td>0.322329</td>\n",
       "    </tr>\n",
       "    <tr>\n",
       "      <th>14</th>\n",
       "      <td>459151</td>\n",
       "      <td>0.322329</td>\n",
       "    </tr>\n",
       "    <tr>\n",
       "      <th>15</th>\n",
       "      <td>51739</td>\n",
       "      <td>0.322329</td>\n",
       "    </tr>\n",
       "    <tr>\n",
       "      <th>16</th>\n",
       "      <td>65759</td>\n",
       "      <td>0.319801</td>\n",
       "    </tr>\n",
       "    <tr>\n",
       "      <th>17</th>\n",
       "      <td>486589</td>\n",
       "      <td>0.319801</td>\n",
       "    </tr>\n",
       "    <tr>\n",
       "      <th>18</th>\n",
       "      <td>550205</td>\n",
       "      <td>0.319801</td>\n",
       "    </tr>\n",
       "    <tr>\n",
       "      <th>19</th>\n",
       "      <td>166428</td>\n",
       "      <td>0.311400</td>\n",
       "    </tr>\n",
       "    <tr>\n",
       "      <th>20</th>\n",
       "      <td>531219</td>\n",
       "      <td>0.311400</td>\n",
       "    </tr>\n",
       "    <tr>\n",
       "      <th>21</th>\n",
       "      <td>406997</td>\n",
       "      <td>0.311400</td>\n",
       "    </tr>\n",
       "    <tr>\n",
       "      <th>22</th>\n",
       "      <td>150540</td>\n",
       "      <td>0.307729</td>\n",
       "    </tr>\n",
       "    <tr>\n",
       "      <th>23</th>\n",
       "      <td>2899</td>\n",
       "      <td>0.301511</td>\n",
       "    </tr>\n",
       "    <tr>\n",
       "      <th>24</th>\n",
       "      <td>15165</td>\n",
       "      <td>0.301511</td>\n",
       "    </tr>\n",
       "    <tr>\n",
       "      <th>25</th>\n",
       "      <td>442062</td>\n",
       "      <td>0.301511</td>\n",
       "    </tr>\n",
       "    <tr>\n",
       "      <th>26</th>\n",
       "      <td>399106</td>\n",
       "      <td>0.301511</td>\n",
       "    </tr>\n",
       "    <tr>\n",
       "      <th>27</th>\n",
       "      <td>446894</td>\n",
       "      <td>0.301511</td>\n",
       "    </tr>\n",
       "    <tr>\n",
       "      <th>28</th>\n",
       "      <td>332210</td>\n",
       "      <td>0.301511</td>\n",
       "    </tr>\n",
       "    <tr>\n",
       "      <th>29</th>\n",
       "      <td>774825</td>\n",
       "      <td>0.301511</td>\n",
       "    </tr>\n",
       "  </tbody>\n",
       "</table>\n",
       "</div>"
      ],
      "text/plain": [
       "    tmdb_id     score\n",
       "0    109451  0.762770\n",
       "1    360920  0.418121\n",
       "2     13930  0.404520\n",
       "3    116149  0.369274\n",
       "4    381719  0.363636\n",
       "5      9928  0.363636\n",
       "6    431693  0.348155\n",
       "7    481084  0.348155\n",
       "8    364689  0.345857\n",
       "9    482321  0.341882\n",
       "10   587807  0.341882\n",
       "11   227973  0.334497\n",
       "12    33217  0.322329\n",
       "13   454640  0.322329\n",
       "14   459151  0.322329\n",
       "15    51739  0.322329\n",
       "16    65759  0.319801\n",
       "17   486589  0.319801\n",
       "18   550205  0.319801\n",
       "19   166428  0.311400\n",
       "20   531219  0.311400\n",
       "21   406997  0.311400\n",
       "22   150540  0.307729\n",
       "23     2899  0.301511\n",
       "24    15165  0.301511\n",
       "25   442062  0.301511\n",
       "26   399106  0.301511\n",
       "27   446894  0.301511\n",
       "28   332210  0.301511\n",
       "29   774825  0.301511"
      ]
     },
     "execution_count": 133,
     "metadata": {},
     "output_type": "execute_result"
    }
   ],
   "source": [
    "get_recommendations(22794)"
   ]
  },
  {
   "cell_type": "code",
   "execution_count": 104,
   "metadata": {},
   "outputs": [
    {
     "data": {
      "text/plain": [
       "[{'tmdb_id': 109451, 'score': 0.762770071396474},\n",
       " {'tmdb_id': 360920, 'score': 0.41812100500354543},\n",
       " {'tmdb_id': 13930, 'score': 0.40451991747794525},\n",
       " {'tmdb_id': 116149, 'score': 0.36927447293799825},\n",
       " {'tmdb_id': 381719, 'score': 0.36363636363636365},\n",
       " {'tmdb_id': 9928, 'score': 0.36363636363636365},\n",
       " {'tmdb_id': 431693, 'score': 0.3481553119113957},\n",
       " {'tmdb_id': 481084, 'score': 0.3481553119113957},\n",
       " {'tmdb_id': 364689, 'score': 0.3458572319330373},\n",
       " {'tmdb_id': 482321, 'score': 0.3418817293789138},\n",
       " {'tmdb_id': 587807, 'score': 0.3418817293789138},\n",
       " {'tmdb_id': 227973, 'score': 0.3344968040028363},\n",
       " {'tmdb_id': 33217, 'score': 0.3223291856101521},\n",
       " {'tmdb_id': 454640, 'score': 0.3223291856101521},\n",
       " {'tmdb_id': 459151, 'score': 0.3223291856101521},\n",
       " {'tmdb_id': 51739, 'score': 0.3223291856101521},\n",
       " {'tmdb_id': 65759, 'score': 0.3198010745334156},\n",
       " {'tmdb_id': 486589, 'score': 0.3198010745334156},\n",
       " {'tmdb_id': 550205, 'score': 0.3198010745334156},\n",
       " {'tmdb_id': 166428, 'score': 0.3113995776646092},\n",
       " {'tmdb_id': 531219, 'score': 0.3113995776646092},\n",
       " {'tmdb_id': 406997, 'score': 0.3113995776646092},\n",
       " {'tmdb_id': 150540, 'score': 0.3077287274483319},\n",
       " {'tmdb_id': 2899, 'score': 0.30151134457776363},\n",
       " {'tmdb_id': 15165, 'score': 0.30151134457776363},\n",
       " {'tmdb_id': 442062, 'score': 0.30151134457776363},\n",
       " {'tmdb_id': 399106, 'score': 0.30151134457776363},\n",
       " {'tmdb_id': 446894, 'score': 0.30151134457776363},\n",
       " {'tmdb_id': 332210, 'score': 0.30151134457776363},\n",
       " {'tmdb_id': 774825, 'score': 0.30151134457776363}]"
      ]
     },
     "execution_count": 104,
     "metadata": {},
     "output_type": "execute_result"
    }
   ],
   "source": [
    "get_recommendations(22794).to_dict(orient='records')"
   ]
  },
  {
   "cell_type": "markdown",
   "metadata": {},
   "source": [
    "## GATHER ALL SCORES INTO A DATAFRAME"
   ]
  },
  {
   "cell_type": "code",
   "execution_count": 121,
   "metadata": {},
   "outputs": [],
   "source": [
    "all_movies =  content['tmdb_id'].values\n",
    "all_scores = []\n",
    "\n",
    "for movie in all_movies:\n",
    "    scores = get_recommendations(movie).to_dict(orient='records')\n",
    "    all_scores.append([movie, scores])   "
   ]
  },
  {
   "cell_type": "code",
   "execution_count": 131,
   "metadata": {},
   "outputs": [
    {
     "data": {
      "text/html": [
       "<div>\n",
       "<style scoped>\n",
       "    .dataframe tbody tr th:only-of-type {\n",
       "        vertical-align: middle;\n",
       "    }\n",
       "\n",
       "    .dataframe tbody tr th {\n",
       "        vertical-align: top;\n",
       "    }\n",
       "\n",
       "    .dataframe thead th {\n",
       "        text-align: right;\n",
       "    }\n",
       "</style>\n",
       "<table border=\"1\" class=\"dataframe\">\n",
       "  <thead>\n",
       "    <tr style=\"text-align: right;\">\n",
       "      <th></th>\n",
       "      <th>tmdb_id</th>\n",
       "      <th>score_cb</th>\n",
       "    </tr>\n",
       "  </thead>\n",
       "  <tbody>\n",
       "    <tr>\n",
       "      <th>0</th>\n",
       "      <td>614696</td>\n",
       "      <td>[{'tmdb_id': 581392, 'score': 0.38949041885226...</td>\n",
       "    </tr>\n",
       "    <tr>\n",
       "      <th>1</th>\n",
       "      <td>19913</td>\n",
       "      <td>[{'tmdb_id': 8488, 'score': 0.3380617018914066...</td>\n",
       "    </tr>\n",
       "    <tr>\n",
       "      <th>2</th>\n",
       "      <td>333371</td>\n",
       "      <td>[{'tmdb_id': 335866, 'score': 0.33562431103976...</td>\n",
       "    </tr>\n",
       "    <tr>\n",
       "      <th>3</th>\n",
       "      <td>4951</td>\n",
       "      <td>[{'tmdb_id': 625450, 'score': 0.40824829046386...</td>\n",
       "    </tr>\n",
       "    <tr>\n",
       "      <th>4</th>\n",
       "      <td>389</td>\n",
       "      <td>[{'tmdb_id': 11975, 'score': 0.258198889747161...</td>\n",
       "    </tr>\n",
       "    <tr>\n",
       "      <th>...</th>\n",
       "      <td>...</td>\n",
       "      <td>...</td>\n",
       "    </tr>\n",
       "    <tr>\n",
       "      <th>2995</th>\n",
       "      <td>1946</td>\n",
       "      <td>[{'tmdb_id': 97, 'score': 0.40089186286863654}...</td>\n",
       "    </tr>\n",
       "    <tr>\n",
       "      <th>2996</th>\n",
       "      <td>437586</td>\n",
       "      <td>[{'tmdb_id': 308639, 'score': 0.44444444444444...</td>\n",
       "    </tr>\n",
       "    <tr>\n",
       "      <th>2997</th>\n",
       "      <td>381283</td>\n",
       "      <td>[{'tmdb_id': 301804, 'score': 0.26318067798390...</td>\n",
       "    </tr>\n",
       "    <tr>\n",
       "      <th>2998</th>\n",
       "      <td>537116</td>\n",
       "      <td>[{'tmdb_id': 316029, 'score': 0.27735009811261...</td>\n",
       "    </tr>\n",
       "    <tr>\n",
       "      <th>2999</th>\n",
       "      <td>47971</td>\n",
       "      <td>[{'tmdb_id': 385128, 'score': 0.39528470752104...</td>\n",
       "    </tr>\n",
       "  </tbody>\n",
       "</table>\n",
       "<p>3000 rows × 2 columns</p>\n",
       "</div>"
      ],
      "text/plain": [
       "      tmdb_id                                           score_cb\n",
       "0      614696  [{'tmdb_id': 581392, 'score': 0.38949041885226...\n",
       "1       19913  [{'tmdb_id': 8488, 'score': 0.3380617018914066...\n",
       "2      333371  [{'tmdb_id': 335866, 'score': 0.33562431103976...\n",
       "3        4951  [{'tmdb_id': 625450, 'score': 0.40824829046386...\n",
       "4         389  [{'tmdb_id': 11975, 'score': 0.258198889747161...\n",
       "...       ...                                                ...\n",
       "2995     1946  [{'tmdb_id': 97, 'score': 0.40089186286863654}...\n",
       "2996   437586  [{'tmdb_id': 308639, 'score': 0.44444444444444...\n",
       "2997   381283  [{'tmdb_id': 301804, 'score': 0.26318067798390...\n",
       "2998   537116  [{'tmdb_id': 316029, 'score': 0.27735009811261...\n",
       "2999    47971  [{'tmdb_id': 385128, 'score': 0.39528470752104...\n",
       "\n",
       "[3000 rows x 2 columns]"
      ]
     },
     "execution_count": 131,
     "metadata": {},
     "output_type": "execute_result"
    }
   ],
   "source": [
    "df_final = pd.DataFrame(all_scores, columns=['tmdb_id', 'score_cb'])\n",
    "df_final"
   ]
  },
  {
   "cell_type": "markdown",
   "metadata": {},
   "source": [
    "## SAVE TO CSV"
   ]
  },
  {
   "cell_type": "code",
   "execution_count": 132,
   "metadata": {},
   "outputs": [],
   "source": [
    "df_final.to_csv('./src/TMDB_content_based.csv')"
   ]
  },
  {
   "cell_type": "code",
   "execution_count": null,
   "metadata": {},
   "outputs": [],
   "source": []
  }
 ],
 "metadata": {
  "kernelspec": {
   "display_name": "moviematch",
   "language": "python",
   "name": "python3"
  },
  "language_info": {
   "codemirror_mode": {
    "name": "ipython",
    "version": 3
   },
   "file_extension": ".py",
   "mimetype": "text/x-python",
   "name": "python",
   "nbconvert_exporter": "python",
   "pygments_lexer": "ipython3",
   "version": "3.10.13"
  }
 },
 "nbformat": 4,
 "nbformat_minor": 2
}
