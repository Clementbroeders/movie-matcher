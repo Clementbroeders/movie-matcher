{
 "cells": [
  {
   "cell_type": "code",
   "execution_count": 2,
   "metadata": {},
   "outputs": [],
   "source": [
    "import pandas as pd\n",
    "\n",
    "tmdb_content = pd.read_csv(\"data/TMDB_content.csv\")"
   ]
  },
  {
   "cell_type": "code",
   "execution_count": 39,
   "metadata": {},
   "outputs": [
    {
     "data": {
      "text/html": [
       "<div>\n",
       "<style scoped>\n",
       "    .dataframe tbody tr th:only-of-type {\n",
       "        vertical-align: middle;\n",
       "    }\n",
       "\n",
       "    .dataframe tbody tr th {\n",
       "        vertical-align: top;\n",
       "    }\n",
       "\n",
       "    .dataframe thead th {\n",
       "        text-align: right;\n",
       "    }\n",
       "</style>\n",
       "<table border=\"1\" class=\"dataframe\">\n",
       "  <thead>\n",
       "    <tr style=\"text-align: right;\">\n",
       "      <th></th>\n",
       "      <th>TMDB_id</th>\n",
       "      <th>title</th>\n",
       "      <th>genres</th>\n",
       "      <th>keywords</th>\n",
       "      <th>cast</th>\n",
       "    </tr>\n",
       "  </thead>\n",
       "  <tbody>\n",
       "    <tr>\n",
       "      <th>220</th>\n",
       "      <td>812</td>\n",
       "      <td>Aladdin</td>\n",
       "      <td>Animation, Family, Adventure, Fantasy, Romance</td>\n",
       "      <td>princess, magic, tiger, cartoon, parrot, sulta...</td>\n",
       "      <td>Scott Weinger, Robin Williams, Linda Larkin, J...</td>\n",
       "    </tr>\n",
       "    <tr>\n",
       "      <th>244</th>\n",
       "      <td>420817</td>\n",
       "      <td>Aladdin</td>\n",
       "      <td>Adventure, Fantasy, Romance, Family</td>\n",
       "      <td>hero, hustler, palace, sultan, flying carpet, ...</td>\n",
       "      <td>Will Smith, Mena Massoud, Naomi Scott, Marwan ...</td>\n",
       "    </tr>\n",
       "  </tbody>\n",
       "</table>\n",
       "</div>"
      ],
      "text/plain": [
       "     TMDB_id    title                                          genres  \\\n",
       "220      812  Aladdin  Animation, Family, Adventure, Fantasy, Romance   \n",
       "244   420817  Aladdin             Adventure, Fantasy, Romance, Family   \n",
       "\n",
       "                                              keywords  \\\n",
       "220  princess, magic, tiger, cartoon, parrot, sulta...   \n",
       "244  hero, hustler, palace, sultan, flying carpet, ...   \n",
       "\n",
       "                                                  cast  \n",
       "220  Scott Weinger, Robin Williams, Linda Larkin, J...  \n",
       "244  Will Smith, Mena Massoud, Naomi Scott, Marwan ...  "
      ]
     },
     "execution_count": 39,
     "metadata": {},
     "output_type": "execute_result"
    }
   ],
   "source": [
    "tmdb_content[tmdb_content['title'] == 'Aladdin']"
   ]
  },
  {
   "cell_type": "code",
   "execution_count": 40,
   "metadata": {},
   "outputs": [
    {
     "data": {
      "text/plain": [
       "TMDB_id     41\n",
       "title       41\n",
       "genres      41\n",
       "keywords    41\n",
       "cast        41\n",
       "dtype: int64"
      ]
     },
     "execution_count": 40,
     "metadata": {},
     "output_type": "execute_result"
    }
   ],
   "source": [
    "tmdb_content[tmdb_content['title'].duplicated() == True].count()"
   ]
  },
  {
   "cell_type": "code",
   "execution_count": 29,
   "metadata": {},
   "outputs": [
    {
     "data": {
      "text/plain": [
       "array(['Action', 'Science Fiction', 'Adventure', 'Drama', 'Crime',\n",
       "       'Thriller', 'Comedy', 'Romance', 'Western', 'Mystery', 'War',\n",
       "       'Fantasy', 'Family', 'Animation', 'Music', 'Horror', 'History',\n",
       "       'Documentary', 'TV Movie'], dtype=object)"
      ]
     },
     "execution_count": 29,
     "metadata": {},
     "output_type": "execute_result"
    }
   ],
   "source": [
    "filter_genres = tmdb_content['genres'].str.split(',').explode('genres').str.strip().unique()\n",
    "filter_genres"
   ]
  },
  {
   "cell_type": "code",
   "execution_count": 24,
   "metadata": {},
   "outputs": [
    {
     "data": {
      "text/plain": [
       "0              rescue\n",
       "1             mission\n",
       "2               dream\n",
       "3            airplane\n",
       "4               paris\n",
       "            ...      \n",
       "8530           attack\n",
       "8531       domination\n",
       "8532         cheering\n",
       "8533         notebook\n",
       "8534    teleportation\n",
       "Length: 8535, dtype: object"
      ]
     },
     "execution_count": 24,
     "metadata": {},
     "output_type": "execute_result"
    }
   ],
   "source": [
    "filter_keywords = tmdb_content['keywords'].str.split(',').explode('keywords').unique()\n",
    "filter_keywords = pd.Series(filter_keywords)\n",
    "filter_keywords"
   ]
  },
  {
   "cell_type": "code",
   "execution_count": 44,
   "metadata": {},
   "outputs": [
    {
     "data": {
      "text/plain": [
       "array(['Action', 'Adventure', 'Animation', 'Comedy', 'Crime',\n",
       "       'Documentary', 'Drama', 'Family', 'Fantasy', 'History', 'Horror',\n",
       "       'Music', 'Mystery', 'Romance', 'Science Fiction', 'TV Movie',\n",
       "       'Thriller', 'War', 'Western'], dtype=object)"
      ]
     },
     "execution_count": 44,
     "metadata": {},
     "output_type": "execute_result"
    }
   ],
   "source": [
    "tmdb_content['genres'].str.split(',').explode('genres').str.strip().sort_values().unique()"
   ]
  },
  {
   "cell_type": "code",
   "execution_count": null,
   "metadata": {},
   "outputs": [],
   "source": []
  }
 ],
 "metadata": {
  "kernelspec": {
   "display_name": "moviematch",
   "language": "python",
   "name": "python3"
  },
  "language_info": {
   "codemirror_mode": {
    "name": "ipython",
    "version": 3
   },
   "file_extension": ".py",
   "mimetype": "text/x-python",
   "name": "python",
   "nbconvert_exporter": "python",
   "pygments_lexer": "ipython3",
   "version": "3.12.1"
  }
 },
 "nbformat": 4,
 "nbformat_minor": 2
}
