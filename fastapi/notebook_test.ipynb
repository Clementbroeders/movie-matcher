{
 "cells": [
  {
   "cell_type": "code",
   "execution_count": 8,
   "metadata": {},
   "outputs": [],
   "source": [
    "import pandas as pd\n",
    "from surprise import Dataset, Reader, SVD\n",
    "import ast"
   ]
  },
  {
   "cell_type": "code",
   "execution_count": 9,
   "metadata": {},
   "outputs": [],
   "source": [
    "ratings_updated = pd.read_csv('src/Movielens_ratings_updated.csv')\n",
    "content_based = pd.read_csv('src/TMDB_content_based.csv')"
   ]
  },
  {
   "cell_type": "code",
   "execution_count": 14,
   "metadata": {},
   "outputs": [],
   "source": [
    "favorites_movies = {'favorite_movies': ['671', '672']}"
   ]
  },
  {
   "cell_type": "code",
   "execution_count": 23,
   "metadata": {},
   "outputs": [],
   "source": [
    "def movie_recommandation(favorite_movies):\n",
    "    global ratings_updated\n",
    "\n",
    "    ### COLLABORATIVE FILTERING ###\n",
    "    # Add new user in ratings dataset:\n",
    "    new_user_id = ratings_updated['userId'].max() + 1\n",
    "    for movie in favorite_movies:\n",
    "        newdata = pd.DataFrame([[new_user_id, movie, 5.0]], columns=['userId', 'tmdb_id', 'rating'])\n",
    "        ratings_updated = pd.concat([ratings_updated, newdata], ignore_index=True)\n",
    "\n",
    "    # Train model with new data:\n",
    "    reader = Reader(rating_scale=(0.5, 5))\n",
    "    data = Dataset.load_from_df(ratings_updated[['userId', 'tmdb_id', 'rating']], reader)\n",
    "    best_hyperparams = {'n_factors': 50, 'reg_all': 0.05, 'n_epochs': 20, 'lr_all': 0.005}\n",
    "    svd = SVD(**best_hyperparams)\n",
    "    train_set = data.build_full_trainset()\n",
    "    svd.fit(train_set)\n",
    "\n",
    "    # Isolate movies the user never saw:\n",
    "    all_movies = ratings_updated['tmdb_id'].unique().tolist()\n",
    "    already_seen = ratings_updated[ratings_updated['userId'] == new_user_id]['tmdb_id'].tolist()\n",
    "    never_seen = [x for x in all_movies if x not in already_seen]\n",
    "\n",
    "    # Make predictions for new user:\n",
    "    predictions = []\n",
    "    movies = []\n",
    "    for movie in never_seen:\n",
    "        pred = svd.predict(new_user_id, movie)\n",
    "        predictions.append(pred.est)\n",
    "        movies.append(pred.iid)\n",
    "\n",
    "    # Results collaborative filtering:\n",
    "    result_collaborative = pd.DataFrame(list(zip(predictions, movies)), columns=['predicted_rating', 'tmdb_id'])\n",
    "    result_collaborative.sort_values(by='predicted_rating', ascending=False, inplace=True)   \n",
    "    \n",
    "    display(result_collaborative)\n",
    "    \n",
    "    ### CONTENT BASED FILTERING ###\n",
    "    # Filter content and open list of similarities:\n",
    "    filtered_content_based = content_based[content_based['tmdb_id'].isin(favorite_movies)]\n",
    "    filtered_content_based.loc[:, 'similarities'] = filtered_content_based['similarities'].apply(ast.literal_eval)\n",
    "    \n",
    "    result_list = []\n",
    "    for _, row in filtered_content_based.iterrows():\n",
    "        for entry in row['similarities']:\n",
    "            result_list.append({\n",
    "                'tmdb_id': entry['tmdb_id'],\n",
    "                'score': entry['score']\n",
    "            })\n",
    "\n",
    "    result_content = pd.DataFrame(result_list)\n",
    "    result_content = result_content[~result_content['tmdb_id'].isin(favorite_movies)]\n",
    "\n",
    "    # Calculate score_content:\n",
    "    alpha = 0.1  # Poids pour les valeurs en doublon\n",
    "\n",
    "    result_content = result_content.groupby('tmdb_id').agg({'score': 'sum', 'tmdb_id': 'count'})\n",
    "    result_content = result_content.rename(columns={'tmdb_id': 'count_duplicates'})\n",
    "    result_content = result_content.reset_index()\n",
    "    result_content['score_content'] = result_content.apply(lambda row: row['score'] / row['count_duplicates'] + alpha * row['count_duplicates'] if row['count_duplicates'] > 1 else row['score'], axis=1)\n",
    "    \n",
    "    # Results content_based\n",
    "    result_content.sort_values(by='score_content', ascending=False, inplace=True)\n",
    "    \n",
    "    \n",
    "    ### REGROUPER LES FICHIERS ###\n",
    "    result = pd.merge(result_content, result_collaborative, on='tmdb_id', how='left')\n",
    "    \n",
    "    weight_collaborative = 1  # Poids pour le modèle de filtrage collaboratif\n",
    "    weight_content = 5  # Poids pour le modèle content-based\n",
    "    \n",
    "    average_predicted_rating = result['predicted_rating'].mean()\n",
    "    result['final_score'] = (weight_collaborative * result['predicted_rating'].fillna(average_predicted_rating) + weight_content * result['score_content'])\n",
    "    \n",
    "    # Results\n",
    "    result.sort_values(by='final_score', ascending=False, inplace=True)\n",
    "    result = result.loc[:,['tmdb_id', 'final_score']]\n",
    "    \n",
    "    return result.to_dict(orient='records')"
   ]
  },
  {
   "cell_type": "code",
   "execution_count": 25,
   "metadata": {},
   "outputs": [
    {
     "name": "stdout",
     "output_type": "stream",
     "text": [
      "Empty DataFrame\n",
      "Columns: [tmdb_id, similarities]\n",
      "Index: []\n"
     ]
    },
    {
     "ename": "KeyError",
     "evalue": "'tmdb_id'",
     "output_type": "error",
     "traceback": [
      "\u001b[1;31m---------------------------------------------------------------------------\u001b[0m",
      "\u001b[1;31mKeyError\u001b[0m                                  Traceback (most recent call last)",
      "Cell \u001b[1;32mIn[25], line 1\u001b[0m\n\u001b[1;32m----> 1\u001b[0m movie_recommandation(favorites_movies[\u001b[38;5;124m'\u001b[39m\u001b[38;5;124mfavorite_movies\u001b[39m\u001b[38;5;124m'\u001b[39m])\n",
      "Cell \u001b[1;32mIn[23], line 53\u001b[0m, in \u001b[0;36mmovie_recommandation\u001b[1;34m(favorite_movies)\u001b[0m\n\u001b[0;32m     47\u001b[0m         result_list\u001b[38;5;241m.\u001b[39mappend({\n\u001b[0;32m     48\u001b[0m             \u001b[38;5;124m'\u001b[39m\u001b[38;5;124mtmdb_id\u001b[39m\u001b[38;5;124m'\u001b[39m: entry[\u001b[38;5;124m'\u001b[39m\u001b[38;5;124mtmdb_id\u001b[39m\u001b[38;5;124m'\u001b[39m],\n\u001b[0;32m     49\u001b[0m             \u001b[38;5;124m'\u001b[39m\u001b[38;5;124mscore\u001b[39m\u001b[38;5;124m'\u001b[39m: entry[\u001b[38;5;124m'\u001b[39m\u001b[38;5;124mscore\u001b[39m\u001b[38;5;124m'\u001b[39m]\n\u001b[0;32m     50\u001b[0m         })\n\u001b[0;32m     52\u001b[0m result_content \u001b[38;5;241m=\u001b[39m pd\u001b[38;5;241m.\u001b[39mDataFrame(result_list)\n\u001b[1;32m---> 53\u001b[0m result_content \u001b[38;5;241m=\u001b[39m result_content[\u001b[38;5;241m~\u001b[39mresult_content[\u001b[38;5;124m'\u001b[39m\u001b[38;5;124mtmdb_id\u001b[39m\u001b[38;5;124m'\u001b[39m]\u001b[38;5;241m.\u001b[39misin(favorite_movies)]\n\u001b[0;32m     55\u001b[0m \u001b[38;5;66;03m# Calculate score_content:\u001b[39;00m\n\u001b[0;32m     56\u001b[0m alpha \u001b[38;5;241m=\u001b[39m \u001b[38;5;241m0.1\u001b[39m  \u001b[38;5;66;03m# Poids pour les valeurs en doublon\u001b[39;00m\n",
      "File \u001b[1;32mc:\\Anaconda3\\Lib\\site-packages\\pandas\\core\\frame.py:3893\u001b[0m, in \u001b[0;36mDataFrame.__getitem__\u001b[1;34m(self, key)\u001b[0m\n\u001b[0;32m   3891\u001b[0m \u001b[38;5;28;01mif\u001b[39;00m \u001b[38;5;28mself\u001b[39m\u001b[38;5;241m.\u001b[39mcolumns\u001b[38;5;241m.\u001b[39mnlevels \u001b[38;5;241m>\u001b[39m \u001b[38;5;241m1\u001b[39m:\n\u001b[0;32m   3892\u001b[0m     \u001b[38;5;28;01mreturn\u001b[39;00m \u001b[38;5;28mself\u001b[39m\u001b[38;5;241m.\u001b[39m_getitem_multilevel(key)\n\u001b[1;32m-> 3893\u001b[0m indexer \u001b[38;5;241m=\u001b[39m \u001b[38;5;28mself\u001b[39m\u001b[38;5;241m.\u001b[39mcolumns\u001b[38;5;241m.\u001b[39mget_loc(key)\n\u001b[0;32m   3894\u001b[0m \u001b[38;5;28;01mif\u001b[39;00m is_integer(indexer):\n\u001b[0;32m   3895\u001b[0m     indexer \u001b[38;5;241m=\u001b[39m [indexer]\n",
      "File \u001b[1;32mc:\\Anaconda3\\Lib\\site-packages\\pandas\\core\\indexes\\range.py:418\u001b[0m, in \u001b[0;36mRangeIndex.get_loc\u001b[1;34m(self, key)\u001b[0m\n\u001b[0;32m    416\u001b[0m         \u001b[38;5;28;01mraise\u001b[39;00m \u001b[38;5;167;01mKeyError\u001b[39;00m(key) \u001b[38;5;28;01mfrom\u001b[39;00m \u001b[38;5;21;01merr\u001b[39;00m\n\u001b[0;32m    417\u001b[0m \u001b[38;5;28;01mif\u001b[39;00m \u001b[38;5;28misinstance\u001b[39m(key, Hashable):\n\u001b[1;32m--> 418\u001b[0m     \u001b[38;5;28;01mraise\u001b[39;00m \u001b[38;5;167;01mKeyError\u001b[39;00m(key)\n\u001b[0;32m    419\u001b[0m \u001b[38;5;28mself\u001b[39m\u001b[38;5;241m.\u001b[39m_check_indexing_error(key)\n\u001b[0;32m    420\u001b[0m \u001b[38;5;28;01mraise\u001b[39;00m \u001b[38;5;167;01mKeyError\u001b[39;00m(key)\n",
      "\u001b[1;31mKeyError\u001b[0m: 'tmdb_id'"
     ]
    }
   ],
   "source": [
    "movie_recommandation(favorites_movies['favorite_movies'])"
   ]
  }
 ],
 "metadata": {
  "kernelspec": {
   "display_name": "base",
   "language": "python",
   "name": "python3"
  },
  "language_info": {
   "codemirror_mode": {
    "name": "ipython",
    "version": 3
   },
   "file_extension": ".py",
   "mimetype": "text/x-python",
   "name": "python",
   "nbconvert_exporter": "python",
   "pygments_lexer": "ipython3",
   "version": "3.11.7"
  }
 },
 "nbformat": 4,
 "nbformat_minor": 2
}
