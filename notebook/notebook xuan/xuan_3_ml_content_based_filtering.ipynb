{
 "cells": [
  {
   "cell_type": "markdown",
   "metadata": {},
   "source": [
    "## IMPORT & READ CSV"
   ]
  },
  {
   "cell_type": "code",
   "execution_count": 19,
   "metadata": {},
   "outputs": [],
   "source": [
    "import pandas as pd\n",
    "\n",
    "content = pd.read_csv('./src/preprocessed_content_3_3.csv')\n",
    "movies_details = pd.read_csv('./src/TMDB_content.csv')"
   ]
  },
  {
   "cell_type": "markdown",
   "metadata": {},
   "source": [
    "## TF-IDF VECTORIZER"
   ]
  },
  {
   "cell_type": "code",
   "execution_count": 5,
   "metadata": {},
   "outputs": [],
   "source": [
    "from sklearn.feature_extraction.text import CountVectorizer\n",
    "from sklearn.metrics.pairwise import cosine_similarity\n",
    "\n",
    "# Transform each text into its vectorial form and compute the frequency of each word:\n",
    "count = CountVectorizer(stop_words='english')\n",
    "count_matrix = count.fit_transform(content['soup'])\n",
    "\n",
    "# Compute cosine similarity scores:\n",
    "cosine_sim = cosine_similarity(count_matrix, count_matrix)\n",
    "cosine_sim.shape"
   ]
  },
  {
   "cell_type": "markdown",
   "metadata": {},
   "source": [
    "## CONTENT-BASED FILTERING RECOMMENDER"
   ]
  },
  {
   "cell_type": "code",
   "execution_count": 7,
   "metadata": {},
   "outputs": [],
   "source": [
    "movie_ids = pd.Series(content.index, index=content['tmdb_id']).drop_duplicates()\n",
    "\n",
    "def get_recommendations(movie_id, cosine_sim=cosine_sim):\n",
    "    \n",
    "    # Get the index of the movie that matches the ID\n",
    "    idx = movie_ids[movie_id]\n",
    "\n",
    "    # Get the pairwise similarity scores of all movies with that movie\n",
    "    similarity_scores = list(enumerate(cosine_sim[idx]))\n",
    "\n",
    "    # Sort the movies based on the similarity scores\n",
    "    similarity_scores = sorted(similarity_scores, key=lambda x: x[1], reverse=True)\n",
    "\n",
    "    # Get the scores of the 30 most similar movies\n",
    "    similarity_scores = similarity_scores[1:31]\n",
    "\n",
    "    # Get the movie indices, scores and tmdb_id\n",
    "    movie_indices = [i[0] for i in similarity_scores]\n",
    "    movie_scores = [i[1] for i in similarity_scores]\n",
    "    movie_tmdb_id = content['tmdb_id'].iloc[movie_indices]\n",
    "\n",
    "    # Put results into dataframe\n",
    "    df = pd.DataFrame(data = {'tmdb_id': movie_tmdb_id,\n",
    "                              'score': movie_scores\n",
    "                            })\n",
    "    df = df.reset_index(drop=True)\n",
    "\n",
    "    # Return the top 30 most similar movies\n",
    "    return df"
   ]
  },
  {
   "cell_type": "markdown",
   "metadata": {},
   "source": [
    "## GET RECOMMENDATIONS"
   ]
  },
  {
   "cell_type": "code",
   "execution_count": 21,
   "metadata": {},
   "outputs": [
    {
     "data": {
      "text/html": [
       "<div>\n",
       "<style scoped>\n",
       "    .dataframe tbody tr th:only-of-type {\n",
       "        vertical-align: middle;\n",
       "    }\n",
       "\n",
       "    .dataframe tbody tr th {\n",
       "        vertical-align: top;\n",
       "    }\n",
       "\n",
       "    .dataframe thead th {\n",
       "        text-align: right;\n",
       "    }\n",
       "</style>\n",
       "<table border=\"1\" class=\"dataframe\">\n",
       "  <thead>\n",
       "    <tr style=\"text-align: right;\">\n",
       "      <th></th>\n",
       "      <th>tmdb_id</th>\n",
       "      <th>score</th>\n",
       "      <th>title</th>\n",
       "      <th>genres</th>\n",
       "    </tr>\n",
       "  </thead>\n",
       "  <tbody>\n",
       "    <tr>\n",
       "      <th>0</th>\n",
       "      <td>672</td>\n",
       "      <td>0.700000</td>\n",
       "      <td>Harry Potter and the Chamber of Secrets</td>\n",
       "      <td>Adventure, Fantasy</td>\n",
       "    </tr>\n",
       "    <tr>\n",
       "      <th>1</th>\n",
       "      <td>32657</td>\n",
       "      <td>0.521749</td>\n",
       "      <td>Percy Jackson &amp; the Olympians: The Lightning T...</td>\n",
       "      <td>Adventure, Fantasy, Family</td>\n",
       "    </tr>\n",
       "    <tr>\n",
       "      <th>2</th>\n",
       "      <td>674</td>\n",
       "      <td>0.476731</td>\n",
       "      <td>Harry Potter and the Goblet of Fire</td>\n",
       "      <td>Adventure, Fantasy</td>\n",
       "    </tr>\n",
       "    <tr>\n",
       "      <th>3</th>\n",
       "      <td>767</td>\n",
       "      <td>0.466667</td>\n",
       "      <td>Harry Potter and the Half-Blood Prince</td>\n",
       "      <td>Adventure, Fantasy</td>\n",
       "    </tr>\n",
       "    <tr>\n",
       "      <th>4</th>\n",
       "      <td>673</td>\n",
       "      <td>0.456435</td>\n",
       "      <td>Harry Potter and the Prisoner of Azkaban</td>\n",
       "      <td>Adventure, Fantasy</td>\n",
       "    </tr>\n",
       "    <tr>\n",
       "      <th>5</th>\n",
       "      <td>12445</td>\n",
       "      <td>0.414039</td>\n",
       "      <td>Harry Potter and the Deathly Hallows: Part 2</td>\n",
       "      <td>Fantasy, Adventure</td>\n",
       "    </tr>\n",
       "    <tr>\n",
       "      <th>6</th>\n",
       "      <td>12444</td>\n",
       "      <td>0.407046</td>\n",
       "      <td>Harry Potter and the Deathly Hallows: Part 1</td>\n",
       "      <td>Adventure, Fantasy</td>\n",
       "    </tr>\n",
       "    <tr>\n",
       "      <th>7</th>\n",
       "      <td>675</td>\n",
       "      <td>0.400000</td>\n",
       "      <td>Harry Potter and the Order of the Phoenix</td>\n",
       "      <td>Adventure, Fantasy</td>\n",
       "    </tr>\n",
       "    <tr>\n",
       "      <th>8</th>\n",
       "      <td>772</td>\n",
       "      <td>0.379536</td>\n",
       "      <td>Home Alone 2: Lost in New York</td>\n",
       "      <td>Comedy, Family, Adventure</td>\n",
       "    </tr>\n",
       "    <tr>\n",
       "      <th>9</th>\n",
       "      <td>9441</td>\n",
       "      <td>0.367423</td>\n",
       "      <td>Stepmom</td>\n",
       "      <td>Drama, Romance, Comedy</td>\n",
       "    </tr>\n",
       "    <tr>\n",
       "      <th>10</th>\n",
       "      <td>2277</td>\n",
       "      <td>0.365148</td>\n",
       "      <td>Bicentennial Man</td>\n",
       "      <td>Science Fiction, Drama</td>\n",
       "    </tr>\n",
       "    <tr>\n",
       "      <th>11</th>\n",
       "      <td>788</td>\n",
       "      <td>0.322252</td>\n",
       "      <td>Mrs. Doubtfire</td>\n",
       "      <td>Comedy, Drama, Family</td>\n",
       "    </tr>\n",
       "    <tr>\n",
       "      <th>12</th>\n",
       "      <td>34584</td>\n",
       "      <td>0.250490</td>\n",
       "      <td>The NeverEnding Story</td>\n",
       "      <td>Adventure, Fantasy, Family, Drama</td>\n",
       "    </tr>\n",
       "    <tr>\n",
       "      <th>13</th>\n",
       "      <td>338953</td>\n",
       "      <td>0.210819</td>\n",
       "      <td>Fantastic Beasts: The Secrets of Dumbledore</td>\n",
       "      <td>Fantasy, Adventure, Family</td>\n",
       "    </tr>\n",
       "    <tr>\n",
       "      <th>14</th>\n",
       "      <td>338952</td>\n",
       "      <td>0.207020</td>\n",
       "      <td>Fantastic Beasts: The Crimes of Grindelwald</td>\n",
       "      <td>Fantasy, Adventure, Family</td>\n",
       "    </tr>\n",
       "  </tbody>\n",
       "</table>\n",
       "</div>"
      ],
      "text/plain": [
       "    tmdb_id     score                                              title  \\\n",
       "0       672  0.700000            Harry Potter and the Chamber of Secrets   \n",
       "1     32657  0.521749  Percy Jackson & the Olympians: The Lightning T...   \n",
       "2       674  0.476731                Harry Potter and the Goblet of Fire   \n",
       "3       767  0.466667             Harry Potter and the Half-Blood Prince   \n",
       "4       673  0.456435           Harry Potter and the Prisoner of Azkaban   \n",
       "5     12445  0.414039       Harry Potter and the Deathly Hallows: Part 2   \n",
       "6     12444  0.407046       Harry Potter and the Deathly Hallows: Part 1   \n",
       "7       675  0.400000          Harry Potter and the Order of the Phoenix   \n",
       "8       772  0.379536                     Home Alone 2: Lost in New York   \n",
       "9      9441  0.367423                                            Stepmom   \n",
       "10     2277  0.365148                                   Bicentennial Man   \n",
       "11      788  0.322252                                     Mrs. Doubtfire   \n",
       "12    34584  0.250490                              The NeverEnding Story   \n",
       "13   338953  0.210819        Fantastic Beasts: The Secrets of Dumbledore   \n",
       "14   338952  0.207020        Fantastic Beasts: The Crimes of Grindelwald   \n",
       "\n",
       "                               genres  \n",
       "0                  Adventure, Fantasy  \n",
       "1          Adventure, Fantasy, Family  \n",
       "2                  Adventure, Fantasy  \n",
       "3                  Adventure, Fantasy  \n",
       "4                  Adventure, Fantasy  \n",
       "5                  Fantasy, Adventure  \n",
       "6                  Adventure, Fantasy  \n",
       "7                  Adventure, Fantasy  \n",
       "8           Comedy, Family, Adventure  \n",
       "9              Drama, Romance, Comedy  \n",
       "10             Science Fiction, Drama  \n",
       "11              Comedy, Drama, Family  \n",
       "12  Adventure, Fantasy, Family, Drama  \n",
       "13         Fantasy, Adventure, Family  \n",
       "14         Fantasy, Adventure, Family  "
      ]
     },
     "execution_count": 21,
     "metadata": {},
     "output_type": "execute_result"
    }
   ],
   "source": [
    "# Test on Harry Potter movie:\n",
    "result = get_recommendations(671)\n",
    "\n",
    "# Display titles and genres:\n",
    "result_enriched = pd.merge(result, movies_details, how='left', left_on='tmdb_id', right_on='tmdb_id')\n",
    "result_enriched = result_enriched.drop(['poster_path','year', 'keywords', 'cast', 'director', 'watch_providers'], axis=1)\n",
    "result_enriched.head(15)"
   ]
  },
  {
   "cell_type": "markdown",
   "metadata": {},
   "source": [
    "## GATHER & SAVE ALL SCORES"
   ]
  },
  {
   "cell_type": "code",
   "execution_count": 12,
   "metadata": {},
   "outputs": [],
   "source": [
    "all_movies =  content['tmdb_id'].values\n",
    "all_scores = []\n",
    "\n",
    "for movie in all_movies:\n",
    "    scores = get_recommendations(movie).to_dict(orient='records')\n",
    "    all_scores.append([movie, scores])\n",
    "\n",
    "df_final = pd.DataFrame(all_scores, columns=['tmdb_id', 'score_cb'])\n",
    "df_final.to_csv('./src/TMDB_content_based_3_3.csv')"
   ]
  },
  {
   "cell_type": "markdown",
   "metadata": {},
   "source": [
    "## (FOR TEST)"
   ]
  },
  {
   "cell_type": "code",
   "execution_count": 23,
   "metadata": {},
   "outputs": [],
   "source": [
    "film1 = get_recommendations(671)\n",
    "film2 = get_recommendations(259316)\n",
    "film3 = get_recommendations(411)\n",
    "combined_results = pd.concat([film1, film2, film3])\n",
    "combined_results.to_csv('./results/recommendations_from_cb.csv', index=False)"
   ]
  },
  {
   "cell_type": "code",
   "execution_count": null,
   "metadata": {},
   "outputs": [],
   "source": []
  }
 ],
 "metadata": {
  "kernelspec": {
   "display_name": "moviematch",
   "language": "python",
   "name": "python3"
  },
  "language_info": {
   "codemirror_mode": {
    "name": "ipython",
    "version": 3
   },
   "file_extension": ".py",
   "mimetype": "text/x-python",
   "name": "python",
   "nbconvert_exporter": "python",
   "pygments_lexer": "ipython3",
   "version": "3.10.13"
  }
 },
 "nbformat": 4,
 "nbformat_minor": 2
}
